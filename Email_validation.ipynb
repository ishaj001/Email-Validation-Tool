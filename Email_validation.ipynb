{
 "cells": [
  {
   "cell_type": "code",
   "execution_count": 1,
   "id": "7a5ffb63",
   "metadata": {},
   "outputs": [
    {
     "name": "stdout",
     "output_type": "stream",
     "text": [
      "Defaulting to user installation because normal site-packages is not writeable\n",
      "Requirement already satisfied: email-validator in c:\\users\\intern_datascience\\appdata\\roaming\\python\\python310\\site-packages (2.2.0)\n",
      "Requirement already satisfied: dnspython>=2.0.0 in c:\\users\\intern_datascience\\appdata\\roaming\\python\\python310\\site-packages (from email-validator) (2.7.0)\n",
      "Requirement already satisfied: idna>=2.0.0 in c:\\programdata\\anaconda3\\lib\\site-packages (from email-validator) (3.4)\n"
     ]
    }
   ],
   "source": [
    "# Install dependecies\n",
    "\n",
    "!pip3 install email-validator"
   ]
  },
  {
   "cell_type": "code",
   "execution_count": 2,
   "id": "1979c091",
   "metadata": {},
   "outputs": [],
   "source": [
    "# Importing the pandas and numpy library\n",
    "\n",
    "import pandas as pd  \n",
    "import numpy as np\n",
    "\n",
    "\n",
    "# Importing the 'validate_email' function and 'EmailNotValidError' exception from the email_validator package\n",
    "\n",
    "from email_validator import validate_email, EmailNotValidError\n"
   ]
  },
  {
   "cell_type": "code",
   "execution_count": 22,
   "id": "33eef03d",
   "metadata": {},
   "outputs": [],
   "source": [
    "def check(email):\n",
    "    \n",
    "    flag = None  #create a flag variable to store the status of validity True/False\n",
    "    error_message = ''\n",
    "    try:\n",
    "        v = validate_email(email)\n",
    "        email = v.email\n",
    "        flag = True  # Email is valid\n",
    "    except EmailNotValidError as e:\n",
    "        flag = False  # Email is invalid\n",
    "        error_message = str(e)  \n",
    "    return flag, error_message"
   ]
  },
  {
   "cell_type": "code",
   "execution_count": 13,
   "id": "1b5a3648",
   "metadata": {},
   "outputs": [
    {
     "name": "stdout",
     "output_type": "stream",
     "text": [
      "(174004, 2)\n"
     ]
    },
    {
     "data": {
      "text/html": [
       "<div>\n",
       "<style scoped>\n",
       "    .dataframe tbody tr th:only-of-type {\n",
       "        vertical-align: middle;\n",
       "    }\n",
       "\n",
       "    .dataframe tbody tr th {\n",
       "        vertical-align: top;\n",
       "    }\n",
       "\n",
       "    .dataframe thead th {\n",
       "        text-align: right;\n",
       "    }\n",
       "</style>\n",
       "<table border=\"1\" class=\"dataframe\">\n",
       "  <thead>\n",
       "    <tr style=\"text-align: right;\">\n",
       "      <th></th>\n",
       "      <th>Mobile</th>\n",
       "      <th>Email</th>\n",
       "    </tr>\n",
       "  </thead>\n",
       "  <tbody>\n",
       "    <tr>\n",
       "      <th>0</th>\n",
       "      <td>81219473902</td>\n",
       "      <td>adisratih@gmail.com</td>\n",
       "    </tr>\n",
       "    <tr>\n",
       "      <th>1</th>\n",
       "      <td>81252289667</td>\n",
       "      <td>kjina456@gmail.com</td>\n",
       "    </tr>\n",
       "    <tr>\n",
       "      <th>2</th>\n",
       "      <td>81341438381</td>\n",
       "      <td>yuyantitahir@gmail.com</td>\n",
       "    </tr>\n",
       "    <tr>\n",
       "      <th>3</th>\n",
       "      <td>81908617830</td>\n",
       "      <td>heppychoirunnisa@gmail.com</td>\n",
       "    </tr>\n",
       "    <tr>\n",
       "      <th>4</th>\n",
       "      <td>82175744477</td>\n",
       "      <td>lindajarjis2885@gmail.com</td>\n",
       "    </tr>\n",
       "  </tbody>\n",
       "</table>\n",
       "</div>"
      ],
      "text/plain": [
       "        Mobile                       Email\n",
       "0  81219473902         adisratih@gmail.com\n",
       "1  81252289667          kjina456@gmail.com\n",
       "2  81341438381      yuyantitahir@gmail.com\n",
       "3  81908617830  heppychoirunnisa@gmail.com\n",
       "4  82175744477   lindajarjis2885@gmail.com"
      ]
     },
     "execution_count": 13,
     "metadata": {},
     "output_type": "execute_result"
    }
   ],
   "source": [
    "df = pd.read_csv('unmasked_Email_Base_with_Email_Opt_in_1.csv') \n",
    "\n",
    "df1 = df[['Mobile', 'Email']]\n",
    "\n",
    "print(df1.shape)\n",
    "df1.head()"
   ]
  },
  {
   "cell_type": "code",
   "execution_count": 14,
   "id": "497fb4f7",
   "metadata": {},
   "outputs": [],
   "source": [
    "n = 20000  #chunk row size\n",
    "list_df = [df1[i:i+n] for i in range(0,df.shape[0],n)]"
   ]
  },
  {
   "cell_type": "code",
   "execution_count": 18,
   "id": "141cc728",
   "metadata": {},
   "outputs": [
    {
     "name": "stdout",
     "output_type": "stream",
     "text": [
      "i :  (20000, 2)\n",
      "i :  (20000, 2)\n",
      "i :  (20000, 2)\n",
      "i :  (20000, 2)\n",
      "i :  (20000, 2)\n",
      "i :  (20000, 2)\n",
      "i :  (20000, 2)\n",
      "i :  (20000, 2)\n",
      "i :  (14004, 2)\n"
     ]
    },
    {
     "data": {
      "text/html": [
       "<div>\n",
       "<style scoped>\n",
       "    .dataframe tbody tr th:only-of-type {\n",
       "        vertical-align: middle;\n",
       "    }\n",
       "\n",
       "    .dataframe tbody tr th {\n",
       "        vertical-align: top;\n",
       "    }\n",
       "\n",
       "    .dataframe thead th {\n",
       "        text-align: right;\n",
       "    }\n",
       "</style>\n",
       "<table border=\"1\" class=\"dataframe\">\n",
       "  <thead>\n",
       "    <tr style=\"text-align: right;\">\n",
       "      <th></th>\n",
       "      <th>Mobile</th>\n",
       "      <th>Email</th>\n",
       "    </tr>\n",
       "  </thead>\n",
       "  <tbody>\n",
       "    <tr>\n",
       "      <th>0</th>\n",
       "      <td>81219473902</td>\n",
       "      <td>adisratih@gmail.com</td>\n",
       "    </tr>\n",
       "    <tr>\n",
       "      <th>1</th>\n",
       "      <td>81252289667</td>\n",
       "      <td>kjina456@gmail.com</td>\n",
       "    </tr>\n",
       "    <tr>\n",
       "      <th>2</th>\n",
       "      <td>81341438381</td>\n",
       "      <td>yuyantitahir@gmail.com</td>\n",
       "    </tr>\n",
       "    <tr>\n",
       "      <th>3</th>\n",
       "      <td>81908617830</td>\n",
       "      <td>heppychoirunnisa@gmail.com</td>\n",
       "    </tr>\n",
       "    <tr>\n",
       "      <th>4</th>\n",
       "      <td>82175744477</td>\n",
       "      <td>lindajarjis2885@gmail.com</td>\n",
       "    </tr>\n",
       "  </tbody>\n",
       "</table>\n",
       "</div>"
      ],
      "text/plain": [
       "        Mobile                       Email\n",
       "0  81219473902         adisratih@gmail.com\n",
       "1  81252289667          kjina456@gmail.com\n",
       "2  81341438381      yuyantitahir@gmail.com\n",
       "3  81908617830  heppychoirunnisa@gmail.com\n",
       "4  82175744477   lindajarjis2885@gmail.com"
      ]
     },
     "execution_count": 18,
     "metadata": {},
     "output_type": "execute_result"
    }
   ],
   "source": [
    "for i in range(9):\n",
    "    print(\"i : \",list_df[i].shape)\n",
    "\n",
    "list_df[0].head()"
   ]
  },
  {
   "cell_type": "code",
   "execution_count": 9,
   "id": "c17bd6e6",
   "metadata": {},
   "outputs": [],
   "source": [
    "\n",
    "# Lists to store the validation results\n",
    "if len(status) == len(df) and len(errors) == len(df):\n",
    "    status = []\n",
    "    errors = []\n",
    "\n"
   ]
  },
  {
   "cell_type": "code",
   "execution_count": 10,
   "id": "5067b84d",
   "metadata": {},
   "outputs": [
    {
     "name": "stderr",
     "output_type": "stream",
     "text": [
      "C:\\Users\\intern_datascience\\AppData\\Local\\Temp\\ipykernel_19960\\3514468705.py:18: DeprecationWarning: dict-like access to the return value of validate_email is deprecated and may not be supported in the future.\n",
      "  email = v[\"email\"]\n"
     ]
    },
    {
     "ename": "ValueError",
     "evalue": "Length of values (522012) does not match length of index (174004)",
     "output_type": "error",
     "traceback": [
      "\u001b[1;31m---------------------------------------------------------------------------\u001b[0m",
      "\u001b[1;31mValueError\u001b[0m                                Traceback (most recent call last)",
      "Cell \u001b[1;32mIn[10], line 8\u001b[0m\n\u001b[0;32m      5\u001b[0m     errors\u001b[38;5;241m.\u001b[39mappend(error_message \u001b[38;5;28;01mif\u001b[39;00m \u001b[38;5;129;01mnot\u001b[39;00m flag \u001b[38;5;28;01melse\u001b[39;00m np\u001b[38;5;241m.\u001b[39mnan)  \u001b[38;5;66;03m# Add error message or NaN\u001b[39;00m\n\u001b[0;32m      7\u001b[0m \u001b[38;5;66;03m# Add the results as new columns to the DataFrame\u001b[39;00m\n\u001b[1;32m----> 8\u001b[0m df[\u001b[38;5;124m'\u001b[39m\u001b[38;5;124mStatus\u001b[39m\u001b[38;5;124m'\u001b[39m] \u001b[38;5;241m=\u001b[39m status\n\u001b[0;32m      9\u001b[0m df[\u001b[38;5;124m'\u001b[39m\u001b[38;5;124mError\u001b[39m\u001b[38;5;124m'\u001b[39m] \u001b[38;5;241m=\u001b[39m errors\n\u001b[0;32m     11\u001b[0m \u001b[38;5;66;03m# Save the result to a new CSV file\u001b[39;00m\n",
      "File \u001b[1;32mC:\\ProgramData\\anaconda3\\lib\\site-packages\\pandas\\core\\frame.py:3980\u001b[0m, in \u001b[0;36mDataFrame.__setitem__\u001b[1;34m(self, key, value)\u001b[0m\n\u001b[0;32m   3977\u001b[0m     \u001b[38;5;28mself\u001b[39m\u001b[38;5;241m.\u001b[39m_setitem_array([key], value)\n\u001b[0;32m   3978\u001b[0m \u001b[38;5;28;01melse\u001b[39;00m:\n\u001b[0;32m   3979\u001b[0m     \u001b[38;5;66;03m# set column\u001b[39;00m\n\u001b[1;32m-> 3980\u001b[0m     \u001b[38;5;28;43mself\u001b[39;49m\u001b[38;5;241;43m.\u001b[39;49m\u001b[43m_set_item\u001b[49m\u001b[43m(\u001b[49m\u001b[43mkey\u001b[49m\u001b[43m,\u001b[49m\u001b[43m \u001b[49m\u001b[43mvalue\u001b[49m\u001b[43m)\u001b[49m\n",
      "File \u001b[1;32mC:\\ProgramData\\anaconda3\\lib\\site-packages\\pandas\\core\\frame.py:4174\u001b[0m, in \u001b[0;36mDataFrame._set_item\u001b[1;34m(self, key, value)\u001b[0m\n\u001b[0;32m   4164\u001b[0m \u001b[38;5;28;01mdef\u001b[39;00m \u001b[38;5;21m_set_item\u001b[39m(\u001b[38;5;28mself\u001b[39m, key, value) \u001b[38;5;241m-\u001b[39m\u001b[38;5;241m>\u001b[39m \u001b[38;5;28;01mNone\u001b[39;00m:\n\u001b[0;32m   4165\u001b[0m     \u001b[38;5;124;03m\"\"\"\u001b[39;00m\n\u001b[0;32m   4166\u001b[0m \u001b[38;5;124;03m    Add series to DataFrame in specified column.\u001b[39;00m\n\u001b[0;32m   4167\u001b[0m \n\u001b[1;32m   (...)\u001b[0m\n\u001b[0;32m   4172\u001b[0m \u001b[38;5;124;03m    ensure homogeneity.\u001b[39;00m\n\u001b[0;32m   4173\u001b[0m \u001b[38;5;124;03m    \"\"\"\u001b[39;00m\n\u001b[1;32m-> 4174\u001b[0m     value \u001b[38;5;241m=\u001b[39m \u001b[38;5;28;43mself\u001b[39;49m\u001b[38;5;241;43m.\u001b[39;49m\u001b[43m_sanitize_column\u001b[49m\u001b[43m(\u001b[49m\u001b[43mvalue\u001b[49m\u001b[43m)\u001b[49m\n\u001b[0;32m   4176\u001b[0m     \u001b[38;5;28;01mif\u001b[39;00m (\n\u001b[0;32m   4177\u001b[0m         key \u001b[38;5;129;01min\u001b[39;00m \u001b[38;5;28mself\u001b[39m\u001b[38;5;241m.\u001b[39mcolumns\n\u001b[0;32m   4178\u001b[0m         \u001b[38;5;129;01mand\u001b[39;00m value\u001b[38;5;241m.\u001b[39mndim \u001b[38;5;241m==\u001b[39m \u001b[38;5;241m1\u001b[39m\n\u001b[0;32m   4179\u001b[0m         \u001b[38;5;129;01mand\u001b[39;00m \u001b[38;5;129;01mnot\u001b[39;00m is_extension_array_dtype(value)\n\u001b[0;32m   4180\u001b[0m     ):\n\u001b[0;32m   4181\u001b[0m         \u001b[38;5;66;03m# broadcast across multiple columns if necessary\u001b[39;00m\n\u001b[0;32m   4182\u001b[0m         \u001b[38;5;28;01mif\u001b[39;00m \u001b[38;5;129;01mnot\u001b[39;00m \u001b[38;5;28mself\u001b[39m\u001b[38;5;241m.\u001b[39mcolumns\u001b[38;5;241m.\u001b[39mis_unique \u001b[38;5;129;01mor\u001b[39;00m \u001b[38;5;28misinstance\u001b[39m(\u001b[38;5;28mself\u001b[39m\u001b[38;5;241m.\u001b[39mcolumns, MultiIndex):\n",
      "File \u001b[1;32mC:\\ProgramData\\anaconda3\\lib\\site-packages\\pandas\\core\\frame.py:4915\u001b[0m, in \u001b[0;36mDataFrame._sanitize_column\u001b[1;34m(self, value)\u001b[0m\n\u001b[0;32m   4912\u001b[0m     \u001b[38;5;28;01mreturn\u001b[39;00m _reindex_for_setitem(Series(value), \u001b[38;5;28mself\u001b[39m\u001b[38;5;241m.\u001b[39mindex)\n\u001b[0;32m   4914\u001b[0m \u001b[38;5;28;01mif\u001b[39;00m is_list_like(value):\n\u001b[1;32m-> 4915\u001b[0m     \u001b[43mcom\u001b[49m\u001b[38;5;241;43m.\u001b[39;49m\u001b[43mrequire_length_match\u001b[49m\u001b[43m(\u001b[49m\u001b[43mvalue\u001b[49m\u001b[43m,\u001b[49m\u001b[43m \u001b[49m\u001b[38;5;28;43mself\u001b[39;49m\u001b[38;5;241;43m.\u001b[39;49m\u001b[43mindex\u001b[49m\u001b[43m)\u001b[49m\n\u001b[0;32m   4916\u001b[0m \u001b[38;5;28;01mreturn\u001b[39;00m sanitize_array(value, \u001b[38;5;28mself\u001b[39m\u001b[38;5;241m.\u001b[39mindex, copy\u001b[38;5;241m=\u001b[39m\u001b[38;5;28;01mTrue\u001b[39;00m, allow_2d\u001b[38;5;241m=\u001b[39m\u001b[38;5;28;01mTrue\u001b[39;00m)\n",
      "File \u001b[1;32mC:\\ProgramData\\anaconda3\\lib\\site-packages\\pandas\\core\\common.py:571\u001b[0m, in \u001b[0;36mrequire_length_match\u001b[1;34m(data, index)\u001b[0m\n\u001b[0;32m    567\u001b[0m \u001b[38;5;124;03m\"\"\"\u001b[39;00m\n\u001b[0;32m    568\u001b[0m \u001b[38;5;124;03mCheck the length of data matches the length of the index.\u001b[39;00m\n\u001b[0;32m    569\u001b[0m \u001b[38;5;124;03m\"\"\"\u001b[39;00m\n\u001b[0;32m    570\u001b[0m \u001b[38;5;28;01mif\u001b[39;00m \u001b[38;5;28mlen\u001b[39m(data) \u001b[38;5;241m!=\u001b[39m \u001b[38;5;28mlen\u001b[39m(index):\n\u001b[1;32m--> 571\u001b[0m     \u001b[38;5;28;01mraise\u001b[39;00m \u001b[38;5;167;01mValueError\u001b[39;00m(\n\u001b[0;32m    572\u001b[0m         \u001b[38;5;124m\"\u001b[39m\u001b[38;5;124mLength of values \u001b[39m\u001b[38;5;124m\"\u001b[39m\n\u001b[0;32m    573\u001b[0m         \u001b[38;5;124mf\u001b[39m\u001b[38;5;124m\"\u001b[39m\u001b[38;5;124m(\u001b[39m\u001b[38;5;132;01m{\u001b[39;00m\u001b[38;5;28mlen\u001b[39m(data)\u001b[38;5;132;01m}\u001b[39;00m\u001b[38;5;124m) \u001b[39m\u001b[38;5;124m\"\u001b[39m\n\u001b[0;32m    574\u001b[0m         \u001b[38;5;124m\"\u001b[39m\u001b[38;5;124mdoes not match length of index \u001b[39m\u001b[38;5;124m\"\u001b[39m\n\u001b[0;32m    575\u001b[0m         \u001b[38;5;124mf\u001b[39m\u001b[38;5;124m\"\u001b[39m\u001b[38;5;124m(\u001b[39m\u001b[38;5;132;01m{\u001b[39;00m\u001b[38;5;28mlen\u001b[39m(index)\u001b[38;5;132;01m}\u001b[39;00m\u001b[38;5;124m)\u001b[39m\u001b[38;5;124m\"\u001b[39m\n\u001b[0;32m    576\u001b[0m     )\n",
      "\u001b[1;31mValueError\u001b[0m: Length of values (522012) does not match length of index (174004)"
     ]
    }
   ],
   "source": [
    "# Validate each email and append results to the lists\n",
    "for email in df['Email']:\n",
    "    flag, error_message = check(email)\n",
    "    status.append(flag)  # Add True/False to the 'status' list\n",
    "    errors.append(error_message if not flag else np.nan)  # Add error message or NaN\n",
    "\n",
    "# Add the results as new columns to the DataFrame\n",
    "df['Status'] = status\n",
    "df['Error'] = errors\n",
    "\n",
    "# Save the result to a new CSV file\n",
    "df.to_csv('Email_Base_With_Validation_Status_Opt_in_Yes.csv', index=False, na_rep='NaN')\n",
    "\n",
    "\n",
    "print(\"'Email_Base_With_Validation_Status_Opt_in_Yes.csv' has been created.\")"
   ]
  },
  {
   "cell_type": "code",
   "execution_count": 19,
   "id": "7e57b1e5",
   "metadata": {
    "scrolled": true
   },
   "outputs": [
    {
     "name": "stdout",
     "output_type": "stream",
     "text": [
      "Processing chunk 0 : (20000, 2)\n"
     ]
    },
    {
     "name": "stderr",
     "output_type": "stream",
     "text": [
      "C:\\Users\\intern_datascience\\AppData\\Local\\Temp\\ipykernel_19960\\3514468705.py:18: DeprecationWarning: dict-like access to the return value of validate_email is deprecated and may not be supported in the future.\n",
      "  email = v[\"email\"]\n",
      "C:\\Users\\intern_datascience\\AppData\\Local\\Temp\\ipykernel_19960\\2403826768.py:18: SettingWithCopyWarning: \n",
      "A value is trying to be set on a copy of a slice from a DataFrame.\n",
      "Try using .loc[row_indexer,col_indexer] = value instead\n",
      "\n",
      "See the caveats in the documentation: https://pandas.pydata.org/pandas-docs/stable/user_guide/indexing.html#returning-a-view-versus-a-copy\n",
      "  list_df[i]['Status'] = chunk_status\n",
      "C:\\Users\\intern_datascience\\AppData\\Local\\Temp\\ipykernel_19960\\2403826768.py:19: SettingWithCopyWarning: \n",
      "A value is trying to be set on a copy of a slice from a DataFrame.\n",
      "Try using .loc[row_indexer,col_indexer] = value instead\n",
      "\n",
      "See the caveats in the documentation: https://pandas.pydata.org/pandas-docs/stable/user_guide/indexing.html#returning-a-view-versus-a-copy\n",
      "  list_df[i]['Error'] = chunk_errors\n",
      "C:\\Users\\intern_datascience\\AppData\\Local\\Temp\\ipykernel_19960\\3514468705.py:18: DeprecationWarning: dict-like access to the return value of validate_email is deprecated and may not be supported in the future.\n",
      "  email = v[\"email\"]\n"
     ]
    },
    {
     "name": "stdout",
     "output_type": "stream",
     "text": [
      "Processing chunk 1 : (20000, 2)\n"
     ]
    },
    {
     "name": "stderr",
     "output_type": "stream",
     "text": [
      "C:\\Users\\intern_datascience\\AppData\\Local\\Temp\\ipykernel_19960\\2403826768.py:18: SettingWithCopyWarning: \n",
      "A value is trying to be set on a copy of a slice from a DataFrame.\n",
      "Try using .loc[row_indexer,col_indexer] = value instead\n",
      "\n",
      "See the caveats in the documentation: https://pandas.pydata.org/pandas-docs/stable/user_guide/indexing.html#returning-a-view-versus-a-copy\n",
      "  list_df[i]['Status'] = chunk_status\n",
      "C:\\Users\\intern_datascience\\AppData\\Local\\Temp\\ipykernel_19960\\2403826768.py:19: SettingWithCopyWarning: \n",
      "A value is trying to be set on a copy of a slice from a DataFrame.\n",
      "Try using .loc[row_indexer,col_indexer] = value instead\n",
      "\n",
      "See the caveats in the documentation: https://pandas.pydata.org/pandas-docs/stable/user_guide/indexing.html#returning-a-view-versus-a-copy\n",
      "  list_df[i]['Error'] = chunk_errors\n",
      "C:\\Users\\intern_datascience\\AppData\\Local\\Temp\\ipykernel_19960\\3514468705.py:18: DeprecationWarning: dict-like access to the return value of validate_email is deprecated and may not be supported in the future.\n",
      "  email = v[\"email\"]\n"
     ]
    },
    {
     "name": "stdout",
     "output_type": "stream",
     "text": [
      "Processing chunk 2 : (20000, 2)\n"
     ]
    },
    {
     "name": "stderr",
     "output_type": "stream",
     "text": [
      "C:\\Users\\intern_datascience\\AppData\\Local\\Temp\\ipykernel_19960\\2403826768.py:18: SettingWithCopyWarning: \n",
      "A value is trying to be set on a copy of a slice from a DataFrame.\n",
      "Try using .loc[row_indexer,col_indexer] = value instead\n",
      "\n",
      "See the caveats in the documentation: https://pandas.pydata.org/pandas-docs/stable/user_guide/indexing.html#returning-a-view-versus-a-copy\n",
      "  list_df[i]['Status'] = chunk_status\n",
      "C:\\Users\\intern_datascience\\AppData\\Local\\Temp\\ipykernel_19960\\2403826768.py:19: SettingWithCopyWarning: \n",
      "A value is trying to be set on a copy of a slice from a DataFrame.\n",
      "Try using .loc[row_indexer,col_indexer] = value instead\n",
      "\n",
      "See the caveats in the documentation: https://pandas.pydata.org/pandas-docs/stable/user_guide/indexing.html#returning-a-view-versus-a-copy\n",
      "  list_df[i]['Error'] = chunk_errors\n",
      "C:\\Users\\intern_datascience\\AppData\\Local\\Temp\\ipykernel_19960\\3514468705.py:18: DeprecationWarning: dict-like access to the return value of validate_email is deprecated and may not be supported in the future.\n",
      "  email = v[\"email\"]\n"
     ]
    },
    {
     "name": "stdout",
     "output_type": "stream",
     "text": [
      "Processing chunk 3 : (20000, 2)\n"
     ]
    },
    {
     "name": "stderr",
     "output_type": "stream",
     "text": [
      "C:\\Users\\intern_datascience\\AppData\\Local\\Temp\\ipykernel_19960\\2403826768.py:18: SettingWithCopyWarning: \n",
      "A value is trying to be set on a copy of a slice from a DataFrame.\n",
      "Try using .loc[row_indexer,col_indexer] = value instead\n",
      "\n",
      "See the caveats in the documentation: https://pandas.pydata.org/pandas-docs/stable/user_guide/indexing.html#returning-a-view-versus-a-copy\n",
      "  list_df[i]['Status'] = chunk_status\n",
      "C:\\Users\\intern_datascience\\AppData\\Local\\Temp\\ipykernel_19960\\2403826768.py:19: SettingWithCopyWarning: \n",
      "A value is trying to be set on a copy of a slice from a DataFrame.\n",
      "Try using .loc[row_indexer,col_indexer] = value instead\n",
      "\n",
      "See the caveats in the documentation: https://pandas.pydata.org/pandas-docs/stable/user_guide/indexing.html#returning-a-view-versus-a-copy\n",
      "  list_df[i]['Error'] = chunk_errors\n",
      "C:\\Users\\intern_datascience\\AppData\\Local\\Temp\\ipykernel_19960\\3514468705.py:18: DeprecationWarning: dict-like access to the return value of validate_email is deprecated and may not be supported in the future.\n",
      "  email = v[\"email\"]\n"
     ]
    },
    {
     "name": "stdout",
     "output_type": "stream",
     "text": [
      "Processing chunk 4 : (20000, 2)\n"
     ]
    },
    {
     "name": "stderr",
     "output_type": "stream",
     "text": [
      "C:\\Users\\intern_datascience\\AppData\\Local\\Temp\\ipykernel_19960\\2403826768.py:18: SettingWithCopyWarning: \n",
      "A value is trying to be set on a copy of a slice from a DataFrame.\n",
      "Try using .loc[row_indexer,col_indexer] = value instead\n",
      "\n",
      "See the caveats in the documentation: https://pandas.pydata.org/pandas-docs/stable/user_guide/indexing.html#returning-a-view-versus-a-copy\n",
      "  list_df[i]['Status'] = chunk_status\n",
      "C:\\Users\\intern_datascience\\AppData\\Local\\Temp\\ipykernel_19960\\2403826768.py:19: SettingWithCopyWarning: \n",
      "A value is trying to be set on a copy of a slice from a DataFrame.\n",
      "Try using .loc[row_indexer,col_indexer] = value instead\n",
      "\n",
      "See the caveats in the documentation: https://pandas.pydata.org/pandas-docs/stable/user_guide/indexing.html#returning-a-view-versus-a-copy\n",
      "  list_df[i]['Error'] = chunk_errors\n",
      "C:\\Users\\intern_datascience\\AppData\\Local\\Temp\\ipykernel_19960\\3514468705.py:18: DeprecationWarning: dict-like access to the return value of validate_email is deprecated and may not be supported in the future.\n",
      "  email = v[\"email\"]\n"
     ]
    },
    {
     "name": "stdout",
     "output_type": "stream",
     "text": [
      "Processing chunk 5 : (20000, 2)\n"
     ]
    },
    {
     "name": "stderr",
     "output_type": "stream",
     "text": [
      "C:\\Users\\intern_datascience\\AppData\\Local\\Temp\\ipykernel_19960\\2403826768.py:18: SettingWithCopyWarning: \n",
      "A value is trying to be set on a copy of a slice from a DataFrame.\n",
      "Try using .loc[row_indexer,col_indexer] = value instead\n",
      "\n",
      "See the caveats in the documentation: https://pandas.pydata.org/pandas-docs/stable/user_guide/indexing.html#returning-a-view-versus-a-copy\n",
      "  list_df[i]['Status'] = chunk_status\n",
      "C:\\Users\\intern_datascience\\AppData\\Local\\Temp\\ipykernel_19960\\2403826768.py:19: SettingWithCopyWarning: \n",
      "A value is trying to be set on a copy of a slice from a DataFrame.\n",
      "Try using .loc[row_indexer,col_indexer] = value instead\n",
      "\n",
      "See the caveats in the documentation: https://pandas.pydata.org/pandas-docs/stable/user_guide/indexing.html#returning-a-view-versus-a-copy\n",
      "  list_df[i]['Error'] = chunk_errors\n",
      "C:\\Users\\intern_datascience\\AppData\\Local\\Temp\\ipykernel_19960\\3514468705.py:18: DeprecationWarning: dict-like access to the return value of validate_email is deprecated and may not be supported in the future.\n",
      "  email = v[\"email\"]\n"
     ]
    },
    {
     "name": "stdout",
     "output_type": "stream",
     "text": [
      "Processing chunk 6 : (20000, 2)\n"
     ]
    },
    {
     "name": "stderr",
     "output_type": "stream",
     "text": [
      "C:\\Users\\intern_datascience\\AppData\\Local\\Temp\\ipykernel_19960\\2403826768.py:18: SettingWithCopyWarning: \n",
      "A value is trying to be set on a copy of a slice from a DataFrame.\n",
      "Try using .loc[row_indexer,col_indexer] = value instead\n",
      "\n",
      "See the caveats in the documentation: https://pandas.pydata.org/pandas-docs/stable/user_guide/indexing.html#returning-a-view-versus-a-copy\n",
      "  list_df[i]['Status'] = chunk_status\n",
      "C:\\Users\\intern_datascience\\AppData\\Local\\Temp\\ipykernel_19960\\2403826768.py:19: SettingWithCopyWarning: \n",
      "A value is trying to be set on a copy of a slice from a DataFrame.\n",
      "Try using .loc[row_indexer,col_indexer] = value instead\n",
      "\n",
      "See the caveats in the documentation: https://pandas.pydata.org/pandas-docs/stable/user_guide/indexing.html#returning-a-view-versus-a-copy\n",
      "  list_df[i]['Error'] = chunk_errors\n",
      "C:\\Users\\intern_datascience\\AppData\\Local\\Temp\\ipykernel_19960\\3514468705.py:18: DeprecationWarning: dict-like access to the return value of validate_email is deprecated and may not be supported in the future.\n",
      "  email = v[\"email\"]\n"
     ]
    },
    {
     "name": "stdout",
     "output_type": "stream",
     "text": [
      "Processing chunk 7 : (20000, 2)\n"
     ]
    },
    {
     "name": "stderr",
     "output_type": "stream",
     "text": [
      "C:\\Users\\intern_datascience\\AppData\\Local\\Temp\\ipykernel_19960\\2403826768.py:18: SettingWithCopyWarning: \n",
      "A value is trying to be set on a copy of a slice from a DataFrame.\n",
      "Try using .loc[row_indexer,col_indexer] = value instead\n",
      "\n",
      "See the caveats in the documentation: https://pandas.pydata.org/pandas-docs/stable/user_guide/indexing.html#returning-a-view-versus-a-copy\n",
      "  list_df[i]['Status'] = chunk_status\n",
      "C:\\Users\\intern_datascience\\AppData\\Local\\Temp\\ipykernel_19960\\2403826768.py:19: SettingWithCopyWarning: \n",
      "A value is trying to be set on a copy of a slice from a DataFrame.\n",
      "Try using .loc[row_indexer,col_indexer] = value instead\n",
      "\n",
      "See the caveats in the documentation: https://pandas.pydata.org/pandas-docs/stable/user_guide/indexing.html#returning-a-view-versus-a-copy\n",
      "  list_df[i]['Error'] = chunk_errors\n",
      "C:\\Users\\intern_datascience\\AppData\\Local\\Temp\\ipykernel_19960\\3514468705.py:18: DeprecationWarning: dict-like access to the return value of validate_email is deprecated and may not be supported in the future.\n",
      "  email = v[\"email\"]\n"
     ]
    },
    {
     "name": "stdout",
     "output_type": "stream",
     "text": [
      "Processing chunk 8 : (14004, 2)\n"
     ]
    },
    {
     "name": "stderr",
     "output_type": "stream",
     "text": [
      "C:\\Users\\intern_datascience\\AppData\\Local\\Temp\\ipykernel_19960\\2403826768.py:18: SettingWithCopyWarning: \n",
      "A value is trying to be set on a copy of a slice from a DataFrame.\n",
      "Try using .loc[row_indexer,col_indexer] = value instead\n",
      "\n",
      "See the caveats in the documentation: https://pandas.pydata.org/pandas-docs/stable/user_guide/indexing.html#returning-a-view-versus-a-copy\n",
      "  list_df[i]['Status'] = chunk_status\n",
      "C:\\Users\\intern_datascience\\AppData\\Local\\Temp\\ipykernel_19960\\2403826768.py:19: SettingWithCopyWarning: \n",
      "A value is trying to be set on a copy of a slice from a DataFrame.\n",
      "Try using .loc[row_indexer,col_indexer] = value instead\n",
      "\n",
      "See the caveats in the documentation: https://pandas.pydata.org/pandas-docs/stable/user_guide/indexing.html#returning-a-view-versus-a-copy\n",
      "  list_df[i]['Error'] = chunk_errors\n"
     ]
    },
    {
     "name": "stdout",
     "output_type": "stream",
     "text": [
      "'Email_Base_With_Validation_Status_Opt_in_Yes.csv' has been created.\n"
     ]
    }
   ],
   "source": [
    "status = []\n",
    "errors = []\n",
    "\n",
    "# Process each chunk\n",
    "for i in range(len(list_df)):\n",
    "    print(f\"Processing chunk {i} : {list_df[i].shape}\")\n",
    "    \n",
    "    # For each email in the chunk, validate and store the result\n",
    "    chunk_status = []\n",
    "    chunk_errors = []\n",
    "    \n",
    "    for email in list_df[i]['Email']:  # Iterate through the 'Email' column of the chunk\n",
    "        flag, error_message = check(email)\n",
    "        chunk_status.append(flag)  # Add True/False to the chunk's 'status' list\n",
    "        chunk_errors.append(error_message if not flag else np.nan)  # Add error message or NaN\n",
    "\n",
    "    # Store the validation results back into the chunk\n",
    "    list_df[i]['Status'] = chunk_status\n",
    "    list_df[i]['Error'] = chunk_errors\n",
    "\n",
    "    # Append the chunk to the overall lists\n",
    "    status.extend(chunk_status)\n",
    "    errors.extend(chunk_errors)\n",
    "\n",
    "# After processing all chunks, concatenate them back into one DataFrame\n",
    "df_final = pd.concat(list_df, ignore_index=True)\n",
    "\n",
    "# Save the result to a new CSV file\n",
    "df_final.to_csv('Email_Base_With_Validation_Status_Opt_in_Yes.csv', index=False, na_rep='NaN')\n",
    "\n",
    "print(\"'Email_Base_With_Validation_Status_Opt_in_Yes.csv' has been created.\")"
   ]
  },
  {
   "cell_type": "code",
   "execution_count": null,
   "id": "59825402",
   "metadata": {},
   "outputs": [],
   "source": []
  }
 ],
 "metadata": {
  "kernelspec": {
   "display_name": "Python 3 (ipykernel)",
   "language": "python",
   "name": "python3"
  },
  "language_info": {
   "codemirror_mode": {
    "name": "ipython",
    "version": 3
   },
   "file_extension": ".py",
   "mimetype": "text/x-python",
   "name": "python",
   "nbconvert_exporter": "python",
   "pygments_lexer": "ipython3",
   "version": "3.10.9"
  }
 },
 "nbformat": 4,
 "nbformat_minor": 5
}
